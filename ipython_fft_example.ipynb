{
 "metadata": {
  "name": "",
  "signature": "sha256:1c8a707035342477c2cad874c9553bf896070c3c12617eb0eb4e9f6d312accc1"
 },
 "nbformat": 3,
 "nbformat_minor": 0,
 "worksheets": [
  {
   "cells": [
    {
     "cell_type": "heading",
     "level": 1,
     "metadata": {},
     "source": [
      "Working with Numpy FFT Results: Scaling and Folding"
     ]
    },
    {
     "cell_type": "markdown",
     "metadata": {},
     "source": [
      "Imports\n",
      "-------"
     ]
    },
    {
     "cell_type": "code",
     "collapsed": false,
     "input": [
      "%matplotlib inline\n",
      "import numpy as np\n",
      "import matplotlib.pyplot as plt"
     ],
     "language": "python",
     "metadata": {},
     "outputs": [],
     "prompt_number": 1
    },
    {
     "cell_type": "markdown",
     "metadata": {},
     "source": [
      "Create a Test Signal\n",
      "--------------------\n",
      "$f_s$ is the sampling frequency, while $f$ is a base frequency for the signal content. We create a signal that contains components at a couple of multiples of this base frequency. Note the amplitudes here since we will be trying to extract those correctly from the FFT later."
     ]
    },
    {
     "cell_type": "code",
     "collapsed": false,
     "input": [
      "f_s = 50.0 # Hz\n",
      "f = 1.0 # Hz\n",
      "time = np.arange(0.0, 3.0, 1/f_s)\n",
      "x = 5 * np.sin(2 * np.pi * f * time) + 2 * np.sin(10 * 2 * np.pi * f * time)"
     ],
     "language": "python",
     "metadata": {},
     "outputs": [],
     "prompt_number": 2
    },
    {
     "cell_type": "code",
     "collapsed": false,
     "input": [
      "plt.plot(time, x)\n",
      "plt.xlabel(\"Time (sec)\")\n",
      "plt.ylabel(\"x\")"
     ],
     "language": "python",
     "metadata": {},
     "outputs": [
      {
       "metadata": {},
       "output_type": "pyout",
       "prompt_number": 3,
       "text": [
        "<matplotlib.text.Text at 0x6e22b10>"
       ]
      },
      {
       "metadata": {},
       "output_type": "display_data",
       "png": "[encoded data removed]",
       "text": [
        "<matplotlib.figure.Figure at 0x6e0ae30>"
       ]
      }
     ],
     "prompt_number": 3
    },
    {
     "cell_type": "markdown",
     "metadata": {},
     "source": [
      "Compute the FFT\n",
      "---------------\n",
      "The FFT and a matching vector of frequencies"
     ]
    },
    {
     "cell_type": "code",
     "collapsed": false,
     "input": [
      "fft_x = np.fft.fft(x)\n",
      "n = len(fft_x)\n",
      "freq = np.fft.fftfreq(n, 1/f_s)\n",
      "print n\n",
      "print freq"
     ],
     "language": "python",
     "metadata": {},
     "outputs": [
      {
       "output_type": "stream",
       "stream": "stdout",
       "text": [
        "150\n",
        "[  0.           0.33333333   0.66666667   1.           1.33333333\n",
        "   1.66666667   2.           2.33333333   2.66666667   3.           3.33333333\n",
        "   3.66666667   4.           4.33333333   4.66666667   5.           5.33333333\n",
        "   5.66666667   6.           6.33333333   6.66666667   7.           7.33333333\n",
        "   7.66666667   8.           8.33333333   8.66666667   9.           9.33333333\n",
        "   9.66666667  10.          10.33333333  10.66666667  11.          11.33333333\n",
        "  11.66666667  12.          12.33333333  12.66666667  13.          13.33333333\n",
        "  13.66666667  14.          14.33333333  14.66666667  15.          15.33333333\n",
        "  15.66666667  16.          16.33333333  16.66666667  17.          17.33333333\n",
        "  17.66666667  18.          18.33333333  18.66666667  19.          19.33333333\n",
        "  19.66666667  20.          20.33333333  20.66666667  21.          21.33333333\n",
        "  21.66666667  22.          22.33333333  22.66666667  23.          23.33333333\n",
        "  23.66666667  24.          24.33333333  24.66666667 -25.         -24.66666667\n",
        " -24.33333333 -24.         -23.66666667 -23.33333333 -23.         -22.66666667\n",
        " -22.33333333 -22.         -21.66666667 -21.33333333 -21.         -20.66666667\n",
        " -20.33333333 -20.         -19.66666667 -19.33333333 -19.         -18.66666667\n",
        " -18.33333333 -18.         -17.66666667 -17.33333333 -17.         -16.66666667\n",
        " -16.33333333 -16.         -15.66666667 -15.33333333 -15.         -14.66666667\n",
        " -14.33333333 -14.         -13.66666667 -13.33333333 -13.         -12.66666667\n",
        " -12.33333333 -12.         -11.66666667 -11.33333333 -11.         -10.66666667\n",
        " -10.33333333 -10.          -9.66666667  -9.33333333  -9.          -8.66666667\n",
        "  -8.33333333  -8.          -7.66666667  -7.33333333  -7.          -6.66666667\n",
        "  -6.33333333  -6.          -5.66666667  -5.33333333  -5.          -4.66666667\n",
        "  -4.33333333  -4.          -3.66666667  -3.33333333  -3.          -2.66666667\n",
        "  -2.33333333  -2.          -1.66666667  -1.33333333  -1.          -0.66666667\n",
        "  -0.33333333]\n"
       ]
      }
     ],
     "prompt_number": 4
    },
    {
     "cell_type": "code",
     "collapsed": false,
     "input": [
      "plt.plot(np.abs(fft_x))"
     ],
     "language": "python",
     "metadata": {},
     "outputs": [
      {
       "metadata": {},
       "output_type": "pyout",
       "prompt_number": 5,
       "text": [
        "[<matplotlib.lines.Line2D at 0x70986f0>]"
       ]
      },
      {
       "metadata": {},
       "output_type": "display_data",
       "png": "[encoded data removed]",
       "text": [
        "<matplotlib.figure.Figure at 0x6e31110>"
       ]
      }
     ],
     "prompt_number": 5
    },
    {
     "cell_type": "markdown",
     "metadata": {},
     "source": [
      "Swap Half Spaces\n",
      "----------------\n",
      "Note that frequencies in the FFT and the `freq` vector go from zero to some larger positive number then from a large negative number back toward zero. We can swap that so that the DC component is in the center of the vector while maintaining a two-sided spectrum."
     ]
    },
    {
     "cell_type": "code",
     "collapsed": false,
     "input": [
      "fft_x_shifted = np.fft.fftshift(fft_x)\n",
      "freq_shifted = np.fft.fftshift(freq)"
     ],
     "language": "python",
     "metadata": {},
     "outputs": [],
     "prompt_number": 6
    },
    {
     "cell_type": "code",
     "collapsed": false,
     "input": [
      "plt.plot(freq_shifted, np.abs(fft_x_shifted))\n",
      "plt.xlabel(\"Frequency (Hz)\")"
     ],
     "language": "python",
     "metadata": {},
     "outputs": [
      {
       "metadata": {},
       "output_type": "pyout",
       "prompt_number": 7,
       "text": [
        "<matplotlib.text.Text at 0x70a2b50>"
       ]
      },
      {
       "metadata": {},
       "output_type": "display_data",
       "png": "[encoded data removed]",
       "text": [
        "<matplotlib.figure.Figure at 0x707c690>"
       ]
      }
     ],
     "prompt_number": 7
    },
    {
     "cell_type": "markdown",
     "metadata": {},
     "source": [
      "Fold Negative Frequencies and Scale\n",
      "------------------------------\n",
      "It's actually more common to look at just the first half of the unshifted FFT and frequency vectors and fold all the amplitude information into the positive frequencies. Furthermore, to get ampltude right, we must normalize by the length of the original FFT. Note the factor of $2/n$ in the following which accomplishes both the folding and scaling."
     ]
    },
    {
     "cell_type": "code",
     "collapsed": false,
     "input": [
      "half_n = np.ceil(n/2.0)\n",
      "fft_x_half = (2.0 / n) * fft_x[:half_n]\n",
      "freq_half = freq[:half_n]"
     ],
     "language": "python",
     "metadata": {},
     "outputs": [],
     "prompt_number": 8
    },
    {
     "cell_type": "code",
     "collapsed": false,
     "input": [
      "plt.plot(freq_half, np.abs(fft_x_half))\n",
      "plt.xlabel(\"Frequency (Hz)\")\n",
      "plt.ylabel(\"Amplitude\")"
     ],
     "language": "python",
     "metadata": {},
     "outputs": [
      {
       "metadata": {},
       "output_type": "pyout",
       "prompt_number": 9,
       "text": [
        "<matplotlib.text.Text at 0x6edc150>"
       ]
      },
      {
       "metadata": {},
       "output_type": "display_data",
       "png": "[encoded data removed]",
       "text": [
        "<matplotlib.figure.Figure at 0x70daf50>"
       ]
      }
     ],
     "prompt_number": 9
    },
    {
     "cell_type": "markdown",
     "metadata": {},
     "source": [
      "Now the spectrum contains spikes at the correct amplitudes at only positive frequencies, which are the only ones with physicality."
     ]
    }
   ],
   "metadata": {}
  }
 ]
}